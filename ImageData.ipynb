{
 "cells": [
  {
   "cell_type": "markdown",
   "metadata": {},
   "source": [
    "# Image Data"
   ]
  },
  {
   "cell_type": "code",
   "execution_count": 1,
   "metadata": {},
   "outputs": [],
   "source": [
    "import pandas as pd\n",
    "df = pd.read_csv(\"image_test_data.csv\")"
   ]
  },
  {
   "cell_type": "code",
   "execution_count": 2,
   "metadata": {},
   "outputs": [
    {
     "data": {
      "text/html": [
       "<div>\n",
       "<style scoped>\n",
       "    .dataframe tbody tr th:only-of-type {\n",
       "        vertical-align: middle;\n",
       "    }\n",
       "\n",
       "    .dataframe tbody tr th {\n",
       "        vertical-align: top;\n",
       "    }\n",
       "\n",
       "    .dataframe thead th {\n",
       "        text-align: right;\n",
       "    }\n",
       "</style>\n",
       "<table border=\"1\" class=\"dataframe\">\n",
       "  <thead>\n",
       "    <tr style=\"text-align: right;\">\n",
       "      <th></th>\n",
       "      <th>id</th>\n",
       "      <th>image</th>\n",
       "      <th>label</th>\n",
       "      <th>deep_features</th>\n",
       "      <th>image_array</th>\n",
       "    </tr>\n",
       "  </thead>\n",
       "  <tbody>\n",
       "    <tr>\n",
       "      <td>0</td>\n",
       "      <td>0</td>\n",
       "      <td>Height: 32 Width: 32</td>\n",
       "      <td>cat</td>\n",
       "      <td>[1.13469 0 0 0 0.0366498 0 9.3536 0 0 0 0 0 0 ...</td>\n",
       "      <td>[158 112 49 159 111 47 165 116 51 166 118 53 1...</td>\n",
       "    </tr>\n",
       "    <tr>\n",
       "      <td>1</td>\n",
       "      <td>6</td>\n",
       "      <td>Height: 32 Width: 32</td>\n",
       "      <td>automobile</td>\n",
       "      <td>[0.231359 0 0 0 0 0.226023 8.85989 0 0 0 1.306...</td>\n",
       "      <td>[160 37 13 185 49 11 209 57 14 217 58 10 230 6...</td>\n",
       "    </tr>\n",
       "    <tr>\n",
       "      <td>2</td>\n",
       "      <td>8</td>\n",
       "      <td>Height: 32 Width: 32</td>\n",
       "      <td>cat</td>\n",
       "      <td>[0 0 0.0344192 0 0 0 11.0375 0 0 0 0 0 0 0 0 0...</td>\n",
       "      <td>[23 19 23 19 21 28 21 16 19 65 47 40 164 131 1...</td>\n",
       "    </tr>\n",
       "    <tr>\n",
       "      <td>3</td>\n",
       "      <td>9</td>\n",
       "      <td>Height: 32 Width: 32</td>\n",
       "      <td>automobile</td>\n",
       "      <td>[0 0 0 0 0 0 11.6065 0 0 0 1.54379 0 0.951929 ...</td>\n",
       "      <td>[217 215 209 210 208 202 205 208 191 199 202 1...</td>\n",
       "    </tr>\n",
       "    <tr>\n",
       "      <td>4</td>\n",
       "      <td>12</td>\n",
       "      <td>Height: 32 Width: 32</td>\n",
       "      <td>dog</td>\n",
       "      <td>[0.322317 0 1.24933 0 0 0 9.10822 0 0 0 0 0 2....</td>\n",
       "      <td>[91 64 30 82 58 30 87 73 59 89 87 83 95 92 80 ...</td>\n",
       "    </tr>\n",
       "  </tbody>\n",
       "</table>\n",
       "</div>"
      ],
      "text/plain": [
       "   id                 image       label  \\\n",
       "0   0  Height: 32 Width: 32         cat   \n",
       "1   6  Height: 32 Width: 32  automobile   \n",
       "2   8  Height: 32 Width: 32         cat   \n",
       "3   9  Height: 32 Width: 32  automobile   \n",
       "4  12  Height: 32 Width: 32         dog   \n",
       "\n",
       "                                       deep_features  \\\n",
       "0  [1.13469 0 0 0 0.0366498 0 9.3536 0 0 0 0 0 0 ...   \n",
       "1  [0.231359 0 0 0 0 0.226023 8.85989 0 0 0 1.306...   \n",
       "2  [0 0 0.0344192 0 0 0 11.0375 0 0 0 0 0 0 0 0 0...   \n",
       "3  [0 0 0 0 0 0 11.6065 0 0 0 1.54379 0 0.951929 ...   \n",
       "4  [0.322317 0 1.24933 0 0 0 9.10822 0 0 0 0 0 2....   \n",
       "\n",
       "                                         image_array  \n",
       "0  [158 112 49 159 111 47 165 116 51 166 118 53 1...  \n",
       "1  [160 37 13 185 49 11 209 57 14 217 58 10 230 6...  \n",
       "2  [23 19 23 19 21 28 21 16 19 65 47 40 164 131 1...  \n",
       "3  [217 215 209 210 208 202 205 208 191 199 202 1...  \n",
       "4  [91 64 30 82 58 30 87 73 59 89 87 83 95 92 80 ...  "
      ]
     },
     "execution_count": 2,
     "metadata": {},
     "output_type": "execute_result"
    }
   ],
   "source": [
    "df.head()"
   ]
  },
  {
   "cell_type": "code",
   "execution_count": 3,
   "metadata": {},
   "outputs": [],
   "source": [
    "df_train = pd.read_csv(\"image_train_data.csv\")"
   ]
  },
  {
   "cell_type": "code",
   "execution_count": 4,
   "metadata": {},
   "outputs": [
    {
     "data": {
      "text/html": [
       "<div>\n",
       "<style scoped>\n",
       "    .dataframe tbody tr th:only-of-type {\n",
       "        vertical-align: middle;\n",
       "    }\n",
       "\n",
       "    .dataframe tbody tr th {\n",
       "        vertical-align: top;\n",
       "    }\n",
       "\n",
       "    .dataframe thead th {\n",
       "        text-align: right;\n",
       "    }\n",
       "</style>\n",
       "<table border=\"1\" class=\"dataframe\">\n",
       "  <thead>\n",
       "    <tr style=\"text-align: right;\">\n",
       "      <th></th>\n",
       "      <th>id</th>\n",
       "      <th>image</th>\n",
       "      <th>label</th>\n",
       "      <th>deep_features</th>\n",
       "      <th>image_array</th>\n",
       "    </tr>\n",
       "  </thead>\n",
       "  <tbody>\n",
       "    <tr>\n",
       "      <td>0</td>\n",
       "      <td>24</td>\n",
       "      <td>Height: 32 Width: 32</td>\n",
       "      <td>bird</td>\n",
       "      <td>[0.242872 1.09545 0 0.39363 0 0 11.8949 0 0 0 ...</td>\n",
       "      <td>[73 77 58 71 68 50 77 69 44 120 116 83 125 120...</td>\n",
       "    </tr>\n",
       "    <tr>\n",
       "      <td>1</td>\n",
       "      <td>33</td>\n",
       "      <td>Height: 32 Width: 32</td>\n",
       "      <td>cat</td>\n",
       "      <td>[0.525088 0 0 0 0 0 9.94829 0 0 0 0 0 1.01264 ...</td>\n",
       "      <td>[7 5 8 7 5 8 5 4 6 7 4 7 11 5 9 11 5 9 17 11 1...</td>\n",
       "    </tr>\n",
       "    <tr>\n",
       "      <td>2</td>\n",
       "      <td>36</td>\n",
       "      <td>Height: 32 Width: 32</td>\n",
       "      <td>cat</td>\n",
       "      <td>[0.566016 0 0 0 0 0 9.9972 0 0 0 1.38345 0 0.7...</td>\n",
       "      <td>[169 122 65 131 108 75 193 196 192 218 221 222...</td>\n",
       "    </tr>\n",
       "    <tr>\n",
       "      <td>3</td>\n",
       "      <td>70</td>\n",
       "      <td>Height: 32 Width: 32</td>\n",
       "      <td>dog</td>\n",
       "      <td>[1.1298 0 0 0.778194 0 0.758051 9.83053 0 0 0....</td>\n",
       "      <td>[154 179 152 159 183 157 165 189 162 174 199 1...</td>\n",
       "    </tr>\n",
       "    <tr>\n",
       "      <td>4</td>\n",
       "      <td>90</td>\n",
       "      <td>Height: 32 Width: 32</td>\n",
       "      <td>bird</td>\n",
       "      <td>[1.71787 0 0 0 0 0 9.33936 0 0 0 0 0 0.412137 ...</td>\n",
       "      <td>[216 195 180 201 178 160 210 184 164 212 188 1...</td>\n",
       "    </tr>\n",
       "  </tbody>\n",
       "</table>\n",
       "</div>"
      ],
      "text/plain": [
       "   id                 image label  \\\n",
       "0  24  Height: 32 Width: 32  bird   \n",
       "1  33  Height: 32 Width: 32   cat   \n",
       "2  36  Height: 32 Width: 32   cat   \n",
       "3  70  Height: 32 Width: 32   dog   \n",
       "4  90  Height: 32 Width: 32  bird   \n",
       "\n",
       "                                       deep_features  \\\n",
       "0  [0.242872 1.09545 0 0.39363 0 0 11.8949 0 0 0 ...   \n",
       "1  [0.525088 0 0 0 0 0 9.94829 0 0 0 0 0 1.01264 ...   \n",
       "2  [0.566016 0 0 0 0 0 9.9972 0 0 0 1.38345 0 0.7...   \n",
       "3  [1.1298 0 0 0.778194 0 0.758051 9.83053 0 0 0....   \n",
       "4  [1.71787 0 0 0 0 0 9.33936 0 0 0 0 0 0.412137 ...   \n",
       "\n",
       "                                         image_array  \n",
       "0  [73 77 58 71 68 50 77 69 44 120 116 83 125 120...  \n",
       "1  [7 5 8 7 5 8 5 4 6 7 4 7 11 5 9 11 5 9 17 11 1...  \n",
       "2  [169 122 65 131 108 75 193 196 192 218 221 222...  \n",
       "3  [154 179 152 159 183 157 165 189 162 174 199 1...  \n",
       "4  [216 195 180 201 178 160 210 184 164 212 188 1...  "
      ]
     },
     "execution_count": 4,
     "metadata": {},
     "output_type": "execute_result"
    }
   ],
   "source": [
    "df_train.head()"
   ]
  },
  {
   "cell_type": "code",
   "execution_count": 5,
   "metadata": {},
   "outputs": [],
   "source": [
    "deep_features = df['deep_features'].tolist()\n",
    "deep_features_train = df_train['deep_features'].tolist()"
   ]
  },
  {
   "cell_type": "code",
   "execution_count": 6,
   "metadata": {},
   "outputs": [
    {
     "data": {
      "text/plain": [
       "str"
      ]
     },
     "execution_count": 6,
     "metadata": {},
     "output_type": "execute_result"
    }
   ],
   "source": [
    "type(deep_features[0])"
   ]
  },
  {
   "cell_type": "code",
   "execution_count": 8,
   "metadata": {},
   "outputs": [],
   "source": [
    "new_deep_features = []\n",
    "for i in deep_features:\n",
    "    i = i.replace(\"[\",\"\")\n",
    "    i = i.replace(\"]\",\"\")\n",
    "    feat = i.split()\n",
    "    new_deep_features.append(feat)"
   ]
  },
  {
   "cell_type": "code",
   "execution_count": 9,
   "metadata": {},
   "outputs": [
    {
     "data": {
      "text/plain": [
       "list"
      ]
     },
     "execution_count": 9,
     "metadata": {},
     "output_type": "execute_result"
    }
   ],
   "source": [
    "type(new_deep_features[0])"
   ]
  },
  {
   "cell_type": "code",
   "execution_count": 13,
   "metadata": {},
   "outputs": [
    {
     "data": {
      "text/plain": [
       "4096"
      ]
     },
     "execution_count": 13,
     "metadata": {},
     "output_type": "execute_result"
    }
   ],
   "source": [
    "list_len = [len(i) for i in new_deep_features]\n",
    "max(list_len)"
   ]
  },
  {
   "cell_type": "code",
   "execution_count": 14,
   "metadata": {},
   "outputs": [],
   "source": [
    "cols = []\n",
    "for i in range(0,max(list_len)):\n",
    "    strng = 'feature '+str(i)\n",
    "    cols.append(strng)"
   ]
  },
  {
   "cell_type": "code",
   "execution_count": 16,
   "metadata": {},
   "outputs": [],
   "source": [
    "indexes = df['id'].tolist()"
   ]
  },
  {
   "cell_type": "code",
   "execution_count": 17,
   "metadata": {},
   "outputs": [],
   "source": [
    "x = pd.DataFrame (new_deep_features, index = indexes ,columns = cols)"
   ]
  },
  {
   "cell_type": "code",
   "execution_count": 19,
   "metadata": {},
   "outputs": [],
   "source": [
    "y = df['label'].tolist()"
   ]
  },
  {
   "cell_type": "code",
   "execution_count": 37,
   "metadata": {},
   "outputs": [],
   "source": [
    "y = pd.DataFrame(y)"
   ]
  },
  {
   "cell_type": "code",
   "execution_count": 38,
   "metadata": {},
   "outputs": [
    {
     "data": {
      "text/html": [
       "<div>\n",
       "<style scoped>\n",
       "    .dataframe tbody tr th:only-of-type {\n",
       "        vertical-align: middle;\n",
       "    }\n",
       "\n",
       "    .dataframe tbody tr th {\n",
       "        vertical-align: top;\n",
       "    }\n",
       "\n",
       "    .dataframe thead th {\n",
       "        text-align: right;\n",
       "    }\n",
       "</style>\n",
       "<table border=\"1\" class=\"dataframe\">\n",
       "  <thead>\n",
       "    <tr style=\"text-align: right;\">\n",
       "      <th></th>\n",
       "      <th>0</th>\n",
       "    </tr>\n",
       "  </thead>\n",
       "  <tbody>\n",
       "    <tr>\n",
       "      <td>0</td>\n",
       "      <td>cat</td>\n",
       "    </tr>\n",
       "    <tr>\n",
       "      <td>1</td>\n",
       "      <td>automobile</td>\n",
       "    </tr>\n",
       "    <tr>\n",
       "      <td>2</td>\n",
       "      <td>cat</td>\n",
       "    </tr>\n",
       "    <tr>\n",
       "      <td>3</td>\n",
       "      <td>automobile</td>\n",
       "    </tr>\n",
       "    <tr>\n",
       "      <td>4</td>\n",
       "      <td>dog</td>\n",
       "    </tr>\n",
       "    <tr>\n",
       "      <td>...</td>\n",
       "      <td>...</td>\n",
       "    </tr>\n",
       "    <tr>\n",
       "      <td>3995</td>\n",
       "      <td>cat</td>\n",
       "    </tr>\n",
       "    <tr>\n",
       "      <td>3996</td>\n",
       "      <td>dog</td>\n",
       "    </tr>\n",
       "    <tr>\n",
       "      <td>3997</td>\n",
       "      <td>dog</td>\n",
       "    </tr>\n",
       "    <tr>\n",
       "      <td>3998</td>\n",
       "      <td>dog</td>\n",
       "    </tr>\n",
       "    <tr>\n",
       "      <td>3999</td>\n",
       "      <td>automobile</td>\n",
       "    </tr>\n",
       "  </tbody>\n",
       "</table>\n",
       "<p>4000 rows × 1 columns</p>\n",
       "</div>"
      ],
      "text/plain": [
       "               0\n",
       "0            cat\n",
       "1     automobile\n",
       "2            cat\n",
       "3     automobile\n",
       "4            dog\n",
       "...          ...\n",
       "3995         cat\n",
       "3996         dog\n",
       "3997         dog\n",
       "3998         dog\n",
       "3999  automobile\n",
       "\n",
       "[4000 rows x 1 columns]"
      ]
     },
     "execution_count": 38,
     "metadata": {},
     "output_type": "execute_result"
    }
   ],
   "source": [
    "y"
   ]
  },
  {
   "cell_type": "code",
   "execution_count": 22,
   "metadata": {},
   "outputs": [],
   "source": [
    "new_deep_features_train = []\n",
    "for i in deep_features_train:\n",
    "    i = i.replace(\"[\",\"\")\n",
    "    i = i.replace(\"]\",\"\")\n",
    "    feat = i.split()\n",
    "    new_deep_features_train.append(feat)"
   ]
  },
  {
   "cell_type": "code",
   "execution_count": 26,
   "metadata": {},
   "outputs": [],
   "source": [
    "y_train = df_train['label'].tolist()\n",
    "y_train = pd.DataFrame(y_train)\n",
    "indexes = df_train['id'].tolist()\n",
    "x_train = pd.DataFrame (new_deep_features_train, index = indexes ,columns = cols)"
   ]
  },
  {
   "cell_type": "code",
   "execution_count": 30,
   "metadata": {},
   "outputs": [],
   "source": [
    "from sklearn.preprocessing import StandardScaler\n",
    "scaler = StandardScaler()\n",
    "scaler.fit(x_train)\n",
    "\n",
    "X_train = scaler.transform(x_train)\n",
    "X_test = scaler.transform(x)"
   ]
  },
  {
   "cell_type": "code",
   "execution_count": 34,
   "metadata": {},
   "outputs": [
    {
     "data": {
      "text/plain": [
       "KNeighborsClassifier(algorithm='auto', leaf_size=30, metric='minkowski',\n",
       "                     metric_params=None, n_jobs=None, n_neighbors=5, p=2,\n",
       "                     weights='uniform')"
      ]
     },
     "execution_count": 34,
     "metadata": {},
     "output_type": "execute_result"
    }
   ],
   "source": [
    "from sklearn.neighbors import KNeighborsClassifier\n",
    "classifier = KNeighborsClassifier(n_neighbors=5)\n",
    "classifier.fit(X_train, y_train.values.ravel())"
   ]
  },
  {
   "cell_type": "code",
   "execution_count": 39,
   "metadata": {},
   "outputs": [],
   "source": [
    "y_pred = classifier.predict(X_test)"
   ]
  },
  {
   "cell_type": "code",
   "execution_count": 40,
   "metadata": {},
   "outputs": [
    {
     "name": "stdout",
     "output_type": "stream",
     "text": [
      "[[1045    0    0    0]\n",
      " [   0  642    0    0]\n",
      " [   0    0 1194    0]\n",
      " [   0    0    0 1119]]\n",
      "              precision    recall  f1-score   support\n",
      "\n",
      "  automobile       1.00      1.00      1.00      1045\n",
      "        bird       1.00      1.00      1.00       642\n",
      "         cat       1.00      1.00      1.00      1194\n",
      "         dog       1.00      1.00      1.00      1119\n",
      "\n",
      "    accuracy                           1.00      4000\n",
      "   macro avg       1.00      1.00      1.00      4000\n",
      "weighted avg       1.00      1.00      1.00      4000\n",
      "\n"
     ]
    }
   ],
   "source": [
    "from sklearn.metrics import classification_report, confusion_matrix\n",
    "print(confusion_matrix(y, y_pred))\n",
    "print(classification_report(y, y_pred))"
   ]
  }
 ],
 "metadata": {
  "kernelspec": {
   "display_name": "Python 3",
   "language": "python",
   "name": "python3"
  },
  "language_info": {
   "codemirror_mode": {
    "name": "ipython",
    "version": 3
   },
   "file_extension": ".py",
   "mimetype": "text/x-python",
   "name": "python",
   "nbconvert_exporter": "python",
   "pygments_lexer": "ipython3",
   "version": "3.7.4"
  }
 },
 "nbformat": 4,
 "nbformat_minor": 2
}
